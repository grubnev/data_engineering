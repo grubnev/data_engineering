{
  "nbformat": 4,
  "nbformat_minor": 0,
  "metadata": {
    "colab": {
      "provenance": []
    },
    "kernelspec": {
      "name": "python3",
      "display_name": "Python 3"
    },
    "language_info": {
      "name": "python"
    }
  },
  "cells": [
    {
      "cell_type": "code",
      "execution_count": 19,
      "metadata": {
        "id": "Icpi9cglLdbK"
      },
      "outputs": [],
      "source": [
        "# Задание 1\n",
        "def count_word_frequency(filename):\n",
        "    word_frequency = {}\n",
        "\n",
        "    with open(filename, 'r', encoding='utf-8') as file:\n",
        "        text = file.read()\n",
        "        words = text.split()\n",
        "\n",
        "        for word in words:\n",
        "            word = word.strip('.,!?()[]{}\"\\'').lower()\n",
        "\n",
        "            if word in word_frequency:\n",
        "                word_frequency[word] += 1\n",
        "            else:\n",
        "                word_frequency[word] = 1\n",
        "\n",
        "    sorted_word_frequency = sorted(word_frequency.items(), key=lambda x: x[1], reverse=True)\n",
        "\n",
        "    return sorted_word_frequency\n",
        "\n",
        "filename = '/text_1_var_36'\n",
        "output_filename = 'result_1.txt'\n",
        "\n",
        "word_frequency = count_word_frequency(filename)\n",
        "\n",
        "with open(output_filename, 'w', encoding='utf-8') as outfile:\n",
        "    for word, frequency in word_frequency:\n",
        "        outfile.write(f\"{word}:{frequency}\\n\")"
      ]
    },
    {
      "cell_type": "code",
      "source": [
        "# Задание 2\n",
        "def calculate_sum(line):\n",
        "    numbers = line.split(',')\n",
        "    try:\n",
        "        total_sum = sum(map(int, numbers))\n",
        "        return total_sum\n",
        "    except ValueError:\n",
        "        return 0\n",
        "\n",
        "input_filename = '/text_2_var_36'\n",
        "output_filename = 'result_2.txt'\n",
        "\n",
        "with open(input_filename, 'r') as infile, open(output_filename, 'w') as outfile:\n",
        "    for line in infile:\n",
        "        total_sum = calculate_sum(line)\n",
        "        outfile.write(f\"{total_sum}\\n\")"
      ],
      "metadata": {
        "id": "puJ2TgSGOyZ9"
      },
      "execution_count": 20,
      "outputs": []
    },
    {
      "cell_type": "code",
      "source": [
        "# Задание 3\n",
        "import math\n",
        "\n",
        "def replace_na_with_mean(numbers):\n",
        "    for i in range(len(numbers)):\n",
        "        if numbers[i] == \"NA\":\n",
        "            left_idx = i - 1\n",
        "            right_idx = i + 1\n",
        "\n",
        "            while left_idx >= 0 and numbers[left_idx] == \"NA\":\n",
        "                left_idx -= 1\n",
        "\n",
        "            while right_idx < len(numbers) and numbers[right_idx] == \"NA\":\n",
        "                right_idx += 1\n",
        "\n",
        "            if left_idx >= 0 and right_idx < len(numbers):\n",
        "                left_num = float(numbers[left_idx])\n",
        "                right_num = float(numbers[right_idx])\n",
        "                mean = (left_num + right_num) / 2\n",
        "                numbers[i] = str(mean)\n",
        "            elif left_idx >= 0:\n",
        "                numbers[i] = numbers[left_idx]\n",
        "            elif right_idx < len(numbers):\n",
        "                numbers[i] = numbers[right_idx]\n",
        "\n",
        "input_filename = '/text_3_var_36'\n",
        "output_filename = 'result_3.txt'\n",
        "\n",
        "with open(input_filename, 'r') as infile, open(output_filename, 'w') as outfile:\n",
        "    for line in infile:\n",
        "        numbers = line.strip().split(',')\n",
        "\n",
        "        replace_na_with_mean(numbers)\n",
        "\n",
        "        filtered_numbers = [num for num in numbers if math.sqrt(float(num)) >= (50 + 36)]\n",
        "\n",
        "        outfile.write(\",\".join(filtered_numbers) + \"\\n\")"
      ],
      "metadata": {
        "id": "2Eoq5mL4P6vs"
      },
      "execution_count": 21,
      "outputs": []
    },
    {
      "cell_type": "code",
      "source": [
        "# Задание 4\n",
        "import csv\n",
        "\n",
        "input_filename = '/text_4_var_36'\n",
        "output_filename = 'result_4.txt'\n",
        "\n",
        "def remove_phone_column(rows):\n",
        "    return [row[:4] for row in rows]\n",
        "\n",
        "def calculate_and_filter_salary(rows):\n",
        "    salaries = [float(row[3].strip('₽')) for row in rows]\n",
        "    average_salary = sum(salaries) / len(salaries)\n",
        "    filtered_rows = [row for row in rows if float(row[3].strip('₽')) >= average_salary]\n",
        "    return filtered_rows\n",
        "\n",
        "def filter_by_age(rows):\n",
        "    filtered_rows = [row for row in rows if row[2].isdigit() and int(row[2]) > 25 + 36 % 10]\n",
        "    return filtered_rows\n",
        "\n",
        "with open(input_filename, 'r', newline='') as csvfile:\n",
        "    reader = csv.reader(csvfile)\n",
        "    header = next(reader)  # Пропустить заголовок\n",
        "    rows = [row for row in reader]\n",
        "\n",
        "rows = remove_phone_column(rows)\n",
        "rows = calculate_and_filter_salary(rows)\n",
        "rows = filter_by_age(rows)\n",
        "\n",
        "rows.sort(key=lambda row: int(row[0]))\n",
        "\n",
        "with open(output_filename, 'w', newline='') as csvfile:\n",
        "    writer = csv.writer(csvfile)\n",
        "    writer.writerow(header[:4])\n",
        "    writer.writerows(rows)\n"
      ],
      "metadata": {
        "id": "kqCTa-AUQOf9"
      },
      "execution_count": 22,
      "outputs": []
    },
    {
      "cell_type": "code",
      "source": [
        "# Задание 5\n",
        "from bs4 import BeautifulSoup\n",
        "import csv\n",
        "\n",
        "with open('/text_5_var_36', 'r', encoding='utf-8') as html_file:\n",
        "    html = html_file.read()\n",
        "\n",
        "soup = BeautifulSoup(html, 'html.parser')\n",
        "\n",
        "table = soup.find('table')\n",
        "data = []\n",
        "\n",
        "headers = [header.get_text() for header in table.find_all('th')]\n",
        "data.append(headers)\n",
        "\n",
        "for row in table.find_all('tr'):\n",
        "    cols = row.find_all('td')\n",
        "    cols = [col.get_text().strip() for col in cols]\n",
        "    data.append(cols)\n",
        "\n",
        "with open('result_5.csv', 'w', newline='', encoding='utf-8') as csv_file:\n",
        "    csv_writer = csv.writer(csv_file)\n",
        "    csv_writer.writerows(data)"
      ],
      "metadata": {
        "id": "YiZHRmXlSEnr"
      },
      "execution_count": 23,
      "outputs": []
    }
  ]
}